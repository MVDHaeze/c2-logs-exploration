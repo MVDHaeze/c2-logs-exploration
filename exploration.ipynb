{
 "cells": [
  {
   "cell_type": "code",
   "execution_count": 37,
   "metadata": {},
   "outputs": [],
   "source": [
    "import pandas as pd\n",
    "import numpy as np\n",
    "import matplotlib.pyplot as plt\n",
    "plt.style.use('seaborn-whitegrid')"
   ]
  },
  {
   "cell_type": "code",
   "execution_count": 30,
   "metadata": {},
   "outputs": [],
   "source": [
    "df = pd.read_csv(\"Data/concept2-season-2020.csv\")"
   ]
  },
  {
   "cell_type": "code",
   "execution_count": 73,
   "metadata": {},
   "outputs": [
    {
     "name": "stdout",
     "output_type": "stream",
     "text": [
      "<class 'pandas.core.frame.DataFrame'>\n",
      "RangeIndex: 105 entries, 0 to 104\n",
      "Data columns (total 16 columns):\n",
      " #   Column                 Non-Null Count  Dtype         \n",
      "---  ------                 --------------  -----         \n",
      " 0   ID                     105 non-null    int64         \n",
      " 1   Date                   105 non-null    datetime64[ns]\n",
      " 2   Description            105 non-null    object        \n",
      " 3   Work Time (Formatted)  105 non-null    object        \n",
      " 4   Work Time (Seconds)    105 non-null    float64       \n",
      " 5   Rest Time (Formatted)  21 non-null     object        \n",
      " 6   Rest Time (Seconds)    21 non-null     float64       \n",
      " 7   Work Distance          105 non-null    int64         \n",
      " 8   Rest Distance          21 non-null     float64       \n",
      " 9   Stroke Rate/Cadence    105 non-null    int64         \n",
      " 10  Pace                   105 non-null    datetime64[ns]\n",
      " 11  Avg Watts              105 non-null    int64         \n",
      " 12  Cal/Hour               105 non-null    int64         \n",
      " 13  Total Cal              105 non-null    int64         \n",
      " 14  Drag Factor            105 non-null    int64         \n",
      " 15  Age                    105 non-null    int64         \n",
      "dtypes: datetime64[ns](2), float64(3), int64(8), object(3)\n",
      "memory usage: 13.2+ KB\n"
     ]
    }
   ],
   "source": [
    "col_to_drop = [\"Stroke Count\",\"Avg Heart Rate\",\"Comments\",\"Weight\",\"Type\",\"Ranked\"]\n",
    "clean_df = df.drop(col_to_drop, axis='columns')\n",
    "clean_df['Date'] = pd.to_datetime(clean_df['Date'])\n",
    "clean_df['Pace'] = pd.to_datetime(clean_df['Pace'],format='%M:%S.%f')\n",
    "clean_df.info()"
   ]
  },
  {
   "cell_type": "code",
   "execution_count": 82,
   "metadata": {},
   "outputs": [
    {
     "data": {
      "image/png": "[encoded data removed]",
      "text/plain": [
       "<Figure size 432x288 with 1 Axes>"
      ]
     },
     "metadata": {},
     "output_type": "display_data"
    }
   ],
   "source": [
    "clean_df.plot(x=\"Work Distance\",y=\"Avg Watts\",kind=\"scatter\")\n",
    "y_avg = np.average(clean_df[\"Avg Watts\"])\n",
    "plt.show()"
   ]
  }
 ],
 "metadata": {
  "interpreter": {
   "hash": "47813350e5e9a25d1373703e650570ece15eb19441148770263b6eab3f7f7333"
  },
  "kernelspec": {
   "display_name": "Python 3 (ipykernel)",
   "language": "python",
   "name": "python3"
  },
  "language_info": {
   "codemirror_mode": {
    "name": "ipython",
    "version": 3
   },
   "file_extension": ".py",
   "mimetype": "text/x-python",
   "name": "python",
   "nbconvert_exporter": "python",
   "pygments_lexer": "ipython3",
   "version": "3.9.7"
  }
 },
 "nbformat": 4,
 "nbformat_minor": 2
}
