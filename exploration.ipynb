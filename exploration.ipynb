{
 "cells": [
  {
   "cell_type": "code",
   "execution_count": 2,
   "metadata": {},
   "outputs": [],
   "source": [
    "import pandas as pd\n",
    "import numpy as np\n",
    "import matplotlib.pyplot as plt\n",
    "import sys\n",
    "from scipy.interpolate import UnivariateSpline\n",
    "\n",
    "sys.path.append(\"../lib/\")\n",
    "\n",
    "from lib import master_calendar\n"
   ]
  },
  {
   "cell_type": "code",
   "execution_count": 3,
   "metadata": {},
   "outputs": [],
   "source": [
    "df_raw = pd.read_csv(\"data/input/concept2-season-2020.csv\")\n",
    "\n",
    "# columns to drop (empty, with duplicated values or identical constants)\n",
    "col_to_drop = [\n",
    "    \"Stroke Count\",  # empty\n",
    "    \"Avg Heart Rate\",  # empty\n",
    "    \"Comments\",  # empty\n",
    "    \"Weight\",  # constant (\"Lwt\")\n",
    "    \"Type\",  # constant (\"Indoor Rower\")\n",
    "    \"Ranked\",  # constant (\"No\")\n",
    "    \"Work Time (Formatted)\",  # string duplicate (of float \"Work Time (seconds)\")\n",
    "    \"Rest Time (Formatted)\",  #  string duplicate (of float \"Rest Time (seconds)\")\n",
    "    \"Age\",  # constant (\"26\" or \"27\", negligeable difference)\n",
    "    \"Cal/Hour\",  # duplicate (similar to power in watts per units of time)\n",
    "]\n",
    "df = df_raw.drop(col_to_drop, axis=\"columns\")"
   ]
  },
  {
   "cell_type": "code",
   "execution_count": 4,
   "metadata": {},
   "outputs": [
    {
     "data": {
      "text/html": [
       "<div>\n",
       "<style scoped>\n",
       "    .dataframe tbody tr th:only-of-type {\n",
       "        vertical-align: middle;\n",
       "    }\n",
       "\n",
       "    .dataframe tbody tr th {\n",
       "        vertical-align: top;\n",
       "    }\n",
       "\n",
       "    .dataframe thead th {\n",
       "        text-align: right;\n",
       "    }\n",
       "</style>\n",
       "<table border=\"1\" class=\"dataframe\">\n",
       "  <thead>\n",
       "    <tr style=\"text-align: right;\">\n",
       "      <th></th>\n",
       "      <th>session_id</th>\n",
       "      <th>session_timestamp</th>\n",
       "      <th>session_type</th>\n",
       "      <th>work_in_s</th>\n",
       "      <th>rest_in_s</th>\n",
       "      <th>work_in_m</th>\n",
       "      <th>rest_in_m</th>\n",
       "      <th>spm</th>\n",
       "      <th>time_split</th>\n",
       "      <th>power_in_avg_w</th>\n",
       "      <th>cal_burned</th>\n",
       "      <th>drag_factor</th>\n",
       "      <th>session_date</th>\n",
       "    </tr>\n",
       "  </thead>\n",
       "  <tbody>\n",
       "    <tr>\n",
       "      <th>0</th>\n",
       "      <td>42587184</td>\n",
       "      <td>2019-12-10 18:37:00</td>\n",
       "      <td>v1000m/1:00r...10 row</td>\n",
       "      <td>752.6</td>\n",
       "      <td>600.0</td>\n",
       "      <td>3200</td>\n",
       "      <td>584.0</td>\n",
       "      <td>27</td>\n",
       "      <td>01:57:30</td>\n",
       "      <td>215</td>\n",
       "      <td>219</td>\n",
       "      <td>116</td>\n",
       "      <td>2019-12-10</td>\n",
       "    </tr>\n",
       "    <tr>\n",
       "      <th>1</th>\n",
       "      <td>42587183</td>\n",
       "      <td>2019-12-09 08:43:00</td>\n",
       "      <td>5000m row</td>\n",
       "      <td>1425.7</td>\n",
       "      <td>NaN</td>\n",
       "      <td>5000</td>\n",
       "      <td>NaN</td>\n",
       "      <td>23</td>\n",
       "      <td>02:22:30</td>\n",
       "      <td>121</td>\n",
       "      <td>296</td>\n",
       "      <td>111</td>\n",
       "      <td>2019-12-09</td>\n",
       "    </tr>\n",
       "    <tr>\n",
       "      <th>2</th>\n",
       "      <td>42587182</td>\n",
       "      <td>2019-12-07 14:24:00</td>\n",
       "      <td>5000m row</td>\n",
       "      <td>1404.7</td>\n",
       "      <td>NaN</td>\n",
       "      <td>5000</td>\n",
       "      <td>NaN</td>\n",
       "      <td>22</td>\n",
       "      <td>02:20:24</td>\n",
       "      <td>126</td>\n",
       "      <td>308</td>\n",
       "      <td>115</td>\n",
       "      <td>2019-12-07</td>\n",
       "    </tr>\n",
       "  </tbody>\n",
       "</table>\n",
       "</div>"
      ],
      "text/plain": [
       "   session_id   session_timestamp           session_type  work_in_s  \\\n",
       "0    42587184 2019-12-10 18:37:00  v1000m/1:00r...10 row      752.6   \n",
       "1    42587183 2019-12-09 08:43:00              5000m row     1425.7   \n",
       "2    42587182 2019-12-07 14:24:00              5000m row     1404.7   \n",
       "\n",
       "   rest_in_s  work_in_m  rest_in_m  spm time_split  power_in_avg_w  \\\n",
       "0      600.0       3200      584.0   27   01:57:30             215   \n",
       "1        NaN       5000        NaN   23   02:22:30             121   \n",
       "2        NaN       5000        NaN   22   02:20:24             126   \n",
       "\n",
       "   cal_burned  drag_factor session_date  \n",
       "0         219          116   2019-12-10  \n",
       "1         296          111   2019-12-09  \n",
       "2         308          115   2019-12-07  "
      ]
     },
     "execution_count": 4,
     "metadata": {},
     "output_type": "execute_result"
    }
   ],
   "source": [
    "# renaming based on preferences\n",
    "dict_naming = {\n",
    "    \"ID\": \"session_id\",\n",
    "    \"Description\": \"session_type\",\n",
    "    \"Date\": \"session_timestamp\",\n",
    "    \"Work Time (Seconds)\": \"work_in_s\",\n",
    "    \"Rest Time (Seconds)\": \"rest_in_s\",\n",
    "    \"Work Distance\": \"work_in_m\",\n",
    "    \"Rest Distance\": \"rest_in_m\",\n",
    "    \"Stroke Rate/Cadence\": \"spm\",\n",
    "    \"Pace\": \"time_split\",\n",
    "    \"Total Cal\": \"cal_burned\",\n",
    "    \"Drag Factor\": \"drag_factor\",\n",
    "    \n",
    "    \"Avg Watts\": \"power_in_avg_w\",\n",
    "}\n",
    "df.rename(columns=dict_naming, inplace=True)\n",
    "\n",
    "df[\"session_date\"] = pd.to_datetime(df[\"session_timestamp\"]).dt.date\n",
    "df[\"session_date\"] = pd.to_datetime(df[\"session_date\"])\n",
    "df[\"session_timestamp\"] = pd.to_datetime(df[\"session_timestamp\"])\n",
    "df[\"time_split\"] = pd.to_datetime(df[\"time_split\"]).dt.time\n",
    "\n",
    "df.head(3)"
   ]
  },
  {
   "cell_type": "markdown",
   "metadata": {},
   "source": [
    "### Description of remaining columns:\n",
    "| Column            | Dtype | Description                                                                                                                         |\n",
    "| ----------------- | ----- | ----------------------------------------------------------------------------------------------------------------------------------- |\n",
    "|*session_id*       |int    |unique value for the session                                                                                                         |\n",
    "|*session_timestamp*|dt     |timestamp (date + time) of the session                                                                                               |\n",
    "|*session_type*     |object |type of rowing session such as distance (2000m, 5000m...), time (30:00, 24:34 ...) or a mix as interval (v1000m/1:00r...10 row, etc) |\n",
    "|**work_in_s**      |float  |length in seconds of effort during the session, never equals to 0 during session                                                     |\n",
    "|*rest_in_s*        |float  |length in seconds of rest during the session ( = low or no watts of power), *equal to 0 if no rest period in session*                |\n",
    "|**work_in_m**      |int    |distance in meters of effort during the session, never equals to 0 during session                                                    |\n",
    "|*rest_in_m*        |float  |distance in meters of rest during the session ( = low or no watts of power), *equal to 0 if no rest period in session*               |\n",
    "|**spm**            |int    |average stroke per minute for the session (*proxy for **speed of movement**, not of power*)                                          |\n",
    "|**time_split**     |object |average time taken to perform 500m (*proxy for **power**, not of speed of movement*)                                                 |\n",
    "|*power_in_avg_w*   |int    |average power output delivered accross the session at each stroke                                                                    |\n",
    "|*cal_burned*       |int    |calories theoritically burned during the session, sum of power delivered in the session                                              |\n",
    "|*drag_factor*      |int    |opposed air resistance during the session, water is between 115 and 130                                                              |\n",
    "|*session_date*     |dt     |calendar date of the session                                                                                                         |"
   ]
  },
  {
   "cell_type": "code",
   "execution_count": 5,
   "metadata": {},
   "outputs": [
    {
     "name": "stdout",
     "output_type": "stream",
     "text": [
      "beginning: 2019-05-04 20:29:00\n",
      "end: 2019-12-10 18:37:00\n"
     ]
    }
   ],
   "source": [
    "# get first and last rowing dates and generate a master calendar in the intervals\n",
    "d_M = np.max(df[\"session_timestamp\"])\n",
    "d_m = np.min(df[\"session_timestamp\"])\n",
    "\n",
    "print(f\"beginning: {d_m}\\nend: {d_M}\")\n",
    "\n",
    "df_calendar = master_calendar.create_calendar(d_m, d_M)\n"
   ]
  },
  {
   "cell_type": "code",
   "execution_count": 6,
   "metadata": {},
   "outputs": [],
   "source": [
    "# merge master calendar with training sessions information for temporal aggregation after\n",
    "df_cal = pd.merge(\n",
    "    df,\n",
    "    df_calendar,\n",
    "    how=\"right\",\n",
    "    left_on=df[\"session_date\"],\n",
    "    right_on=df_calendar[\"mc_date\"],\n",
    ")\n",
    "# fill NaN values from sessions without rest with 0 (rest but equal to 0)\n",
    "dict_nan = {\n",
    "    \"rest_in_s\": 0,\n",
    "    \"rest_in_m\": 0,\n",
    "    \"cal_burned\": 0,\n",
    "    \"session_type\": \"None\",\n",
    "    \"session_id\": \"None\",\n",
    "    \"session_timestamp\": \"None\",\n",
    "    \"work_in_m\": 0,\n",
    "    \"work_in_s\": 0,\n",
    "    \"spm\": 0,\n",
    "    \"power_in_avg_w\": 0,\n",
    "    \"drag_factor\": 0,\n",
    "    \"time_split\": 0,\n",
    "}\n",
    "\n",
    "df_cal.fillna(value=dict_nan, inplace=True)\n",
    "df_cal.drop(\n",
    "    [\"calendar\", \"session_date\", \"key_0\"], axis=\"columns\", inplace=True\n",
    ")  # duplicated information\n"
   ]
  },
  {
   "cell_type": "code",
   "execution_count": 7,
   "metadata": {},
   "outputs": [],
   "source": [
    "df_cal[\"training_day\"] = (df_cal[\"session_type\"] != \"None\").astype(\n",
    "    bool\n",
    ")  # simple filter for training days\n",
    "df_cal[\"multi_training\"] = df_cal.duplicated(\n",
    "    subset=\"mc_date\", keep=False\n",
    ")  # tag for multiple sessions the same day\n"
   ]
  },
  {
   "cell_type": "code",
   "execution_count": 12,
   "metadata": {},
   "outputs": [
    {
     "name": "stdout",
     "output_type": "stream",
     "text": [
      "['1x500m/1:00r row', '5:05 row', 'None', '3x4:00/1:00r row', '10:02 row', '3x500m/1:00r row', '10:04 row', '2000m row', '2x500m/1:00r row', '30:00 row', '5000m row', '8:42 row', '2x1000m/0:30r row', '10000m row', '8:25 row', '8:24 row', '23:56 row', '24:10 row', '5:00 row', 'v2:00/r...15 row', '2x500m/2:00r row', '9:19 row', 'v2:00/r...11 row', 'v2000m/r...12 row', 'v1000m/1:00r...9 row', 'v1000m/1:00r...11 row', 'v1000m/1:00r...10 row', '18:56 row', '22:45 row']\n",
      "['Distance IT', 'Timed Row', 'None', 'Time IT', 'Distance', '2km Row', '5km Row', '10km Row']\n"
     ]
    }
   ],
   "source": [
    "# Obviously possible to create a mapping table based on RegEx but due to the small nature of the dataset, a manual one was performed\n",
    "session_grouping = {\n",
    "    \"2000m row\": \"2km Row\",\n",
    "    \"5000m row\": \"5km Row\",\n",
    "    \"10000m row\": \"10km Row\",\n",
    "    \"1x500m/1:00r row\": \"Distance IT\",\n",
    "    \"5:05 row\": \"Timed Row\",\n",
    "    \"None\": \"None\",\n",
    "    \"3x4:00/1:00r row\": \"Time IT\",\n",
    "    \"10:02 row\": \"Timed Row\",\n",
    "    \"3x500m/1:00r row\": \"Distance\",\n",
    "    \"10:04 row\": \"Timed Row\",\n",
    "    \"2x500m/1:00r row\": \"Distance IT\",\n",
    "    \"30:00 row\": \"Timed Row\",\n",
    "    \"8:42 row\": \"Timed Row\",\n",
    "    \"2x1000m/0:30r row\": \"Distance IT\",\n",
    "    \"8:25 row\": \"Timed Row\",\n",
    "    \"8:24 row\": \"Timed Row\",\n",
    "    \"23:56 row\": \"Timed Row\",\n",
    "    \"24:10 row\": \"Timed Row\",\n",
    "    \"5:00 row\": \"Timed Row\",\n",
    "    \"v2:00/r...15 row\": \"Time IT\",\n",
    "    \"2x500m/2:00r row\": \"Distance IT\",\n",
    "    \"9:19 row\": \"Timed Row\",\n",
    "    \"v2:00/r...11 row\": \"Time IT\",\n",
    "    \"v2000m/r...12 row\": \"Distance IT\",\n",
    "    \"v1000m/1:00r...9 row\": \"Distance IT\",\n",
    "    \"v1000m/1:00r...11 row\": \"Distance IT\",\n",
    "    \"v1000m/1:00r...10 row\": \"Distance IT\",\n",
    "    \"18:56 row\": \"Timed Row\",\n",
    "    \"22:45 row\": \"Timed Row\",\n",
    "}\n",
    "\n",
    "# If no categorized, labelled as other\n",
    "df_cal[\"session_type_group\"] = (\n",
    "    df_cal[\"session_type\"].map(session_grouping).fillna(\"Other\")\n",
    ")\n"
   ]
  },
  {
   "cell_type": "code",
   "execution_count": 13,
   "metadata": {},
   "outputs": [
    {
     "data": {
      "image/png": "[encoded data removed]",
      "text/plain": [
       "<Figure size 432x288 with 1 Axes>"
      ]
     },
     "metadata": {
      "needs_background": "light"
     },
     "output_type": "display_data"
    }
   ],
   "source": [
    "df_work_by_Week = df_cal.groupby([\"mc_week\"])[\"work_in_m\"].sum()\n",
    "df_work_sma = df_work_by_Week.rolling(window=7, min_periods=1).mean()\n",
    "plt.bar(df_work_by_Week.index, df_work_by_Week)\n",
    "plt.plot(df_work_sma.index, df_work_sma, color=\"r\")\n",
    "plt.show()\n"
   ]
  },
  {
   "cell_type": "code",
   "execution_count": 10,
   "metadata": {},
   "outputs": [
    {
     "data": {
      "image/png": "[encoded data removed]",
      "text/plain": [
       "<Figure size 432x288 with 1 Axes>"
      ]
     },
     "metadata": {
      "needs_background": "light"
     },
     "output_type": "display_data"
    }
   ],
   "source": [
    "plt.scatter(\n",
    "    df_cal.index[df_cal[\"session_type_group\"] == \"2km Row\"],\n",
    "    df_cal[\"power_in_avg_w\"][df_cal[\"session_type_group\"] == \"2km Row\"],\n",
    ")\n",
    "plt.scatter(\n",
    "    df_cal.index[df_cal[\"session_type_group\"] == \"5km Row\"],\n",
    "    df_cal[\"power_in_avg_w\"][df_cal[\"session_type_group\"] == \"5km Row\"],\n",
    ")\n",
    "plt.scatter(\n",
    "    df_cal.index[df_cal[\"session_type_group\"] == \"10km Row\"],\n",
    "    df_cal[\"power_in_avg_w\"][df_cal[\"session_type_group\"] == \"10km Row\"],\n",
    ")\n",
    "plt.show()\n"
   ]
  },
  {
   "cell_type": "code",
   "execution_count": 11,
   "metadata": {},
   "outputs": [
    {
     "data": {
      "image/png": "[encoded data removed]",
      "text/plain": [
       "<Figure size 432x288 with 1 Axes>"
      ]
     },
     "metadata": {
      "needs_background": "light"
     },
     "output_type": "display_data"
    }
   ],
   "source": [
    "work_cum_in_m = df_cal[\"work_in_m\"].cumsum()\n",
    "plt.plot(work_cum_in_m.index, work_cum_in_m)\n",
    "plt.show()\n"
   ]
  }
 ],
 "metadata": {
  "interpreter": {
   "hash": "47813350e5e9a25d1373703e650570ece15eb19441148770263b6eab3f7f7333"
  },
  "kernelspec": {
   "display_name": "Python 3 (ipykernel)",
   "language": "python",
   "name": "python3"
  },
  "language_info": {
   "codemirror_mode": {
    "name": "ipython",
    "version": 3
   },
   "file_extension": ".py",
   "mimetype": "text/x-python",
   "name": "python",
   "nbconvert_exporter": "python",
   "pygments_lexer": "ipython3",
   "version": "3.9.7"
  }
 },
 "nbformat": 4,
 "nbformat_minor": 2
}
