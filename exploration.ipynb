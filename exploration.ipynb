{
 "cells": [
  {
   "cell_type": "code",
   "execution_count": 1,
   "metadata": {},
   "outputs": [],
   "source": [
    "import pandas as pd\n",
    "import numpy as np\n",
    "import matplotlib.pyplot as plt\n",
    "import sys\n",
    "from scipy.interpolate import UnivariateSpline\n",
    "import sys\n",
    "\n",
    "sys.path.append(\"../lib/\")\n",
    "\n",
    "from lib import master_calendar\n"
   ]
  },
  {
   "cell_type": "code",
   "execution_count": 2,
   "metadata": {},
   "outputs": [],
   "source": [
    "df_raw = pd.read_csv(\"Data/concept2-season-2020.csv\")\n"
   ]
  },
  {
   "cell_type": "code",
   "execution_count": 3,
   "metadata": {},
   "outputs": [],
   "source": [
    "# columns to drop (empty, duplicated values or constant)\n",
    "col_to_drop = [\n",
    "    \"Stroke Count\",  # empty\n",
    "    \"Avg Heart Rate\",  # empty\n",
    "    \"Comments\",  # empty\n",
    "    \"Weight\",  # constant\n",
    "    \"Type\",  # constant\n",
    "    \"Ranked\",  # constant\n",
    "    \"Work Time (Formatted)\",  # duplicate\n",
    "    \"Rest Time (Formatted)\",  # duplicate\n",
    "    \"Age\",  # constant\n",
    "    \"Cal/Hour\",  # duplicate\n",
    "]\n",
    "df = df_raw.drop(col_to_drop, axis=\"columns\")\n",
    "\n",
    "# renaming based on preferences\n",
    "dict_naming = {\n",
    "    \"ID\": \"session_id\",\n",
    "    \"Description\": \"session_type\",\n",
    "    \"Date\": \"session_timestamp\",\n",
    "    \"Work Time (Seconds)\": \"length_work_in_s\",\n",
    "    \"Rest Time (Seconds)\": \"length_rest_in_s\",\n",
    "    \"Work Distance\": \"length_work_in_m\",\n",
    "    \"Rest Distance\": \"length_rest_in_m\",\n",
    "    \"Stroke Rate/Cadence\": \"spm\",\n",
    "    \"Pace\": \"time_split\",\n",
    "    \"Total Cal\": \"cal_burned\",\n",
    "    \"Drag Factor\": \"drag_factor\",\n",
    "    \"Avg Watts\": \"power_in_avg_w\",\n",
    "}\n",
    "df.rename(columns=dict_naming, inplace=True)\n",
    "\n",
    "df[\"session_date\"] = pd.to_datetime(df[\"session_timestamp\"]).dt.date\n",
    "df[\"session_date\"] = pd.to_datetime(df[\"session_date\"])\n",
    "df[\"time_split\"] = pd.to_datetime(df[\"time_split\"]).dt.time\n"
   ]
  },
  {
   "cell_type": "code",
   "execution_count": 4,
   "metadata": {},
   "outputs": [
    {
     "name": "stdout",
     "output_type": "stream",
     "text": [
      "beginning: 2019-05-04 20:29:00\n",
      "end: 2019-12-10 18:37:00\n"
     ]
    }
   ],
   "source": [
    "# get earliest and latest rowing date and generate a master calendar for the intervals\n",
    "d_M = np.max(df[\"session_timestamp\"])\n",
    "d_m = np.min(df[\"session_timestamp\"])\n",
    "\n",
    "print(f\"beginning: {d_m}\\nend: {d_M}\")\n",
    "\n",
    "df_calendar = master_calendar.create_calendar(d_m, d_M)\n"
   ]
  },
  {
   "cell_type": "code",
   "execution_count": 5,
   "metadata": {},
   "outputs": [],
   "source": [
    "# merge master calendar with training sessions information for temporal aggregation alter\n",
    "df_cal = pd.merge(\n",
    "    df,\n",
    "    df_calendar,\n",
    "    how=\"right\",\n",
    "    left_on=df[\"session_date\"],\n",
    "    right_on=df_calendar[\"MC_Date\"],\n",
    ")\n",
    "# fill NaN values from sessions without rest with 0 (rest but equal to 0)\n",
    "dict_nan = {\n",
    "    \"length_rest_in_s\": 0,\n",
    "    \"length_rest_in_m\": 0,\n",
    "    \"cal_burned\": 0,\n",
    "    \"session_type\": \"None\",\n",
    "    \"session_id\": \"None\",\n",
    "    \"session_timestamp\": \"None\",\n",
    "    \"length_work_in_m\": 0,\n",
    "    \"length_work_in_s\": 0,\n",
    "    \"spm\": 0,\n",
    "    \"power_in_avg_w\": 0,\n",
    "    \"drag_factor\": 0,\n",
    "    \"time_split\": 0,\n",
    "}\n",
    "\n",
    "df_cal.fillna(value=dict_nan, inplace=True)\n",
    "df_cal.drop(\n",
    "    [\"calendar\", \"session_date\", \"key_0\"], axis=\"columns\", inplace=True\n",
    ")  # duplicated information\n"
   ]
  },
  {
   "cell_type": "code",
   "execution_count": 6,
   "metadata": {},
   "outputs": [],
   "source": [
    "df_cal[\"training_day\"] = (df_cal[\"session_type\"] != \"None\").astype(\n",
    "    bool\n",
    ")  # simple filter for training days\n",
    "df_cal[\"multi_training\"] = df_cal.duplicated(\n",
    "    subset=\"MC_Date\", keep=False\n",
    ")  # tag for multiple sessions the same day\n"
   ]
  },
  {
   "cell_type": "code",
   "execution_count": 7,
   "metadata": {},
   "outputs": [
    {
     "name": "stdout",
     "output_type": "stream",
     "text": [
      "['1x500m/1:00r row', '5:05 row', 'None', '3x4:00/1:00r row', '10:02 row', '3x500m/1:00r row', '10:04 row', '2000m row', '2x500m/1:00r row', '30:00 row', '5000m row', '8:42 row', '2x1000m/0:30r row', '10000m row', '8:25 row', '8:24 row', '23:56 row', '24:10 row', '5:00 row', 'v2:00/r...15 row', '2x500m/2:00r row', '9:19 row', 'v2:00/r...11 row', 'v2000m/r...12 row', 'v1000m/1:00r...9 row', 'v1000m/1:00r...11 row', 'v1000m/1:00r...10 row', '18:56 row', '22:45 row']\n",
      "['Other', 'None', '2km Row', '5km Row', '10km Row']\n"
     ]
    }
   ],
   "source": [
    "session_grouping = {\n",
    "    \"2000m row\": \"2km Row\",\n",
    "    \"5000m row\": \"5km Row\",\n",
    "    \"10000m row\": \"10km Row\",\n",
    "    \"None\": \"None\",\n",
    "}\n",
    "\n",
    "df_cal[\"session_type_group\"] = (\n",
    "    df_cal[\"session_type\"].map(session_grouping).fillna(\"Other\")\n",
    ")\n",
    "\n",
    "print(df_cal[\"session_type\"].unique().tolist())\n",
    "print(df_cal[\"session_type_group\"].unique().tolist())"
   ]
  },
  {
   "cell_type": "code",
   "execution_count": 38,
   "metadata": {},
   "outputs": [
    {
     "data": {
      "text/plain": [
       "[<matplotlib.lines.Line2D at 0x223ccaec5b0>]"
      ]
     },
     "execution_count": 38,
     "metadata": {},
     "output_type": "execute_result"
    },
    {
     "data": {
      "image/png": "[encoded data removed]",
      "text/plain": [
       "<Figure size 432x288 with 1 Axes>"
      ]
     },
     "metadata": {
      "needs_background": "light"
     },
     "output_type": "display_data"
    }
   ],
   "source": [
    "df_work_by_Week = df_cal.groupby([\"MC_Week\"])[\"length_work_in_m\"].sum()\n",
    "df_work_sma = df_work_by_Week.rolling(window=7).mean()\n",
    "plt.bar(df_work_by_Week.index,df_work_by_Week)\n",
    "plt.plot(df_work_sma.index,df_work_sma, color=\"r\")"
   ]
  },
  {
   "cell_type": "code",
   "execution_count": 49,
   "metadata": {},
   "outputs": [
    {
     "data": {
      "image/png": "[encoded data removed]",
      "text/plain": [
       "<Figure size 432x288 with 1 Axes>"
      ]
     },
     "metadata": {
      "needs_background": "light"
     },
     "output_type": "display_data"
    }
   ],
   "source": [
    "plt.scatter(df_cal.index[df_cal[\"session_type_group\"]==\"2km Row\"],df_cal[\"power_in_avg_w\"][df_cal[\"session_type_group\"]==\"2km Row\"])\n",
    "plt.scatter(df_cal.index[df_cal[\"session_type_group\"]==\"5km Row\"],df_cal[\"power_in_avg_w\"][df_cal[\"session_type_group\"]==\"5km Row\"])\n",
    "plt.scatter(df_cal.index[df_cal[\"session_type_group\"]==\"10km Row\"],df_cal[\"power_in_avg_w\"][df_cal[\"session_type_group\"]==\"10km Row\"])\n",
    "plt.show()"
   ]
  }
 ],
 "metadata": {
  "interpreter": {
   "hash": "47813350e5e9a25d1373703e650570ece15eb19441148770263b6eab3f7f7333"
  },
  "kernelspec": {
   "display_name": "Python 3 (ipykernel)",
   "language": "python",
   "name": "python3"
  },
  "language_info": {
   "codemirror_mode": {
    "name": "ipython",
    "version": 3
   },
   "file_extension": ".py",
   "mimetype": "text/x-python",
   "name": "python",
   "nbconvert_exporter": "python",
   "pygments_lexer": "ipython3",
   "version": "3.9.7"
  }
 },
 "nbformat": 4,
 "nbformat_minor": 2
}
