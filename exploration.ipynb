{
 "cells": [
  {
   "cell_type": "code",
   "execution_count": 169,
   "metadata": {},
   "outputs": [],
   "source": [
    "import pandas as pd\n",
    "import numpy as np\n",
    "import matplotlib.pyplot as plt\n",
    "import sys\n",
    "\n",
    "import sys\n",
    "\n",
    "sys.path.append(\"../lib/\")\n",
    "\n",
    "from lib import master_calendar\n"
   ]
  },
  {
   "cell_type": "code",
   "execution_count": 170,
   "metadata": {},
   "outputs": [],
   "source": [
    "df_raw = pd.read_csv(\"Data/concept2-season-2020.csv\")\n"
   ]
  },
  {
   "cell_type": "code",
   "execution_count": 171,
   "metadata": {},
   "outputs": [],
   "source": [
    "# columns to drop (empty, duplicated values or constant)\n",
    "col_to_drop = [\n",
    "    \"Stroke Count\",  # empty\n",
    "    \"Avg Heart Rate\",  # empty\n",
    "    \"Comments\",  # empty\n",
    "    \"Weight\",  # constant\n",
    "    \"Type\",  # constant\n",
    "    \"Ranked\",  # constant\n",
    "    \"Work Time (Formatted)\",  # duplicate\n",
    "    \"Rest Time (Formatted)\",  # duplicate\n",
    "    \"Age\",  # constant\n",
    "    \"Cal/Hour\",  # duplicate\n",
    "]\n",
    "df = df_raw.drop(col_to_drop, axis=\"columns\")\n",
    "\n",
    "# renaming based on preferences\n",
    "dict_naming = {\n",
    "    \"ID\": \"session_id\",\n",
    "    \"Description\": \"session_type\",\n",
    "    \"Date\": \"session_timestamp\",\n",
    "    \"Work Time (Seconds)\": \"length_work_in_s\",\n",
    "    \"Rest Time (Seconds)\": \"length_rest_in_s\",\n",
    "    \"Work Distance\": \"length_work_in_m\",\n",
    "    \"Rest Distance\": \"length_rest_in_m\",\n",
    "    \"Stroke Rate/Cadence\": \"spm\",\n",
    "    \"Pace\": \"time_split\",\n",
    "    \"Total Cal\": \"cal_burned\",\n",
    "    \"Drag Factor\": \"drag_factor\",\n",
    "    \"Avg Watts\": \"power_in_avg_w\",\n",
    "}\n",
    "df.rename(columns=dict_naming, inplace=True)\n",
    "\n",
    "df[\"session_date\"] = pd.to_datetime(df[\"session_timestamp\"]).dt.date\n",
    "df[\"session_date\"] = pd.to_datetime(df[\"session_date\"])\n",
    "df[\"time_split\"] = pd.to_datetime(df[\"time_split\"]).dt.time\n"
   ]
  },
  {
   "cell_type": "code",
   "execution_count": 172,
   "metadata": {},
   "outputs": [
    {
     "name": "stdout",
     "output_type": "stream",
     "text": [
      "beginning: 2019-05-04 20:29:00\n",
      "end: 2019-12-10 18:37:00\n"
     ]
    }
   ],
   "source": [
    "# get earliest and latest rowing date and generate a master calendar for the intervals\n",
    "d_M = np.max(df[\"session_timestamp\"])\n",
    "d_m = np.min(df[\"session_timestamp\"])\n",
    "\n",
    "print(f\"beginning: {d_m}\\nend: {d_M}\")\n",
    "\n",
    "df_calendar = master_calendar.create_calendar(d_m, d_M)\n"
   ]
  },
  {
   "cell_type": "code",
   "execution_count": 173,
   "metadata": {},
   "outputs": [],
   "source": [
    "# merge master calendar with training sessions information for temporal aggregation alter\n",
    "df_cal = pd.merge(\n",
    "    df,\n",
    "    df_calendar,\n",
    "    how=\"right\",\n",
    "    left_on=df[\"session_date\"],\n",
    "    right_on=df_calendar[\"Date\"],\n",
    ")\n",
    "# fill NaN values from sessions without rest with 0 (rest but equal to 0)\n",
    "dict_nan = {\n",
    "    \"length_rest_in_s\": 0,\n",
    "    \"length_rest_in_m\": 0,\n",
    "    \"cal_burned\": 0,\n",
    "    \"session_type\": \"None\",\n",
    "    \"session_id\": \"None\",\n",
    "    \"session_timestamp\": \"None\",\n",
    "    \"length_work_in_m\": 0,\n",
    "    \"length_work_in_s\": 0,\n",
    "    \"spm\": 0,\n",
    "    \"power_in_avg_w\": 0,\n",
    "    \"drag_factor\": 0,\n",
    "    \"time_split\": 0,\n",
    "}\n",
    "\n",
    "df_cal.fillna(value=dict_nan, inplace=True)\n",
    "df_cal.drop(\n",
    "    [\"calendar\", \"session_date\", \"key_0\"], axis=\"columns\", inplace=True\n",
    ")  # duplicated information\n",
    "\n",
    "\n",
    "df_cal[\"training_day\"] = (df_cal[\"session_type\"] != \"None\").astype(\n",
    "    bool\n",
    ")  # simple filter for training days\n",
    "df_cal[\"multi_training\"] = df_cal.duplicated(\n",
    "    subset=\"Date\", keep=False\n",
    ")  # tag for multiple sessions the same day\n"
   ]
  },
  {
   "cell_type": "code",
   "execution_count": 182,
   "metadata": {},
   "outputs": [
    {
     "data": {
      "text/plain": [
       "<function matplotlib.pyplot.show(close=None, block=None)>"
      ]
     },
     "execution_count": 182,
     "metadata": {},
     "output_type": "execute_result"
    },
    {
     "data": {
      "image/png": "[encoded data removed]",
      "text/plain": [
       "<Figure size 432x288 with 2 Axes>"
      ]
     },
     "metadata": {
      "needs_background": "light"
     },
     "output_type": "display_data"
    }
   ],
   "source": [
    "fig, axs = plt.subplots(2)\n",
    "# meh pas ouf comme methode\n",
    "axs[0].scatter(df_cal[df_cal[\"training_day\"]==True][\"Date\"], df_cal[df_cal[\"training_day\"]==True][\"drag_factor\"], color=\"b\")\n",
    "axs[1].scatter(df[\"session_date\"], df[\"drag_factor\"], color=\"b\")\n",
    "plt.show\n"
   ]
  },
  {
   "cell_type": "code",
   "execution_count": null,
   "metadata": {},
   "outputs": [],
   "source": []
  }
 ],
 "metadata": {
  "interpreter": {
   "hash": "47813350e5e9a25d1373703e650570ece15eb19441148770263b6eab3f7f7333"
  },
  "kernelspec": {
   "display_name": "Python 3 (ipykernel)",
   "language": "python",
   "name": "python3"
  },
  "language_info": {
   "codemirror_mode": {
    "name": "ipython",
    "version": 3
   },
   "file_extension": ".py",
   "mimetype": "text/x-python",
   "name": "python",
   "nbconvert_exporter": "python",
   "pygments_lexer": "ipython3",
   "version": "3.9.7"
  }
 },
 "nbformat": 4,
 "nbformat_minor": 2
}
