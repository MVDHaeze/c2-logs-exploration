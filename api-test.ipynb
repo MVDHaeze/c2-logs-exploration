{
 "cells": [
  {
   "cell_type": "code",
   "execution_count": 68,
   "metadata": {},
   "outputs": [],
   "source": [
    "import requests\n",
    "from configparser import ConfigParser"
   ]
  },
  {
   "cell_type": "code",
   "execution_count": 69,
   "metadata": {},
   "outputs": [],
   "source": [
    "config = ConfigParser()\n",
    "config.read('user.ini')\n",
    "\n",
    "user = config['APP']['USER_ID']\n",
    "url = config[\"APP\"][\"URL\"]\n",
    "\n",
    "headers= {\"Accept\": \"application/vnd.c2logbook.v1+json\"}"
   ]
  },
  {
   "cell_type": "code",
   "execution_count": 70,
   "metadata": {},
   "outputs": [
    {
     "name": "stdout",
     "output_type": "stream",
     "text": [
      "200\n"
     ]
    }
   ],
   "source": [
    "params = {\"client_id\":\"ugdsra2alx7okz94smztckk6q6vc314xdem6l6hj\",\n",
    "          \"scope\":\"results:read,user:read\",\n",
    "          \"response_type\":\"code\",\n",
    "          \"redirect_uri\":\"https://example.com/logbook\"}\n",
    "\n",
    "response = requests.get(f\"{url}/oauth/authorize?\", params=params)\n",
    "print(response.status_code)"
   ]
  },
  {
   "cell_type": "code",
   "execution_count": 71,
   "metadata": {},
   "outputs": [
    {
     "name": "stdout",
     "output_type": "stream",
     "text": [
      "b'{\"message\":\"Client authentication failed.\",\"status_code\":401}'\n"
     ]
    }
   ],
   "source": [
    "body = {\"client_id\":\"ugdsra2alx7okz94smztckk6q6vc314xdem6l6hj\",\n",
    "          \"client_secret\":\"e3403lr6o03klmh5yp6ldrimv45tfgiab8upinpr\",\n",
    "          \"grant_type\":\"authorization_code\",\n",
    "          \"scope\":\"results:read,user:read\",\n",
    "          \"code\":\"c6YG5nTu3c9hfQCqsABV2x607znfmPEjqisPNlZG\",\n",
    "          \"redirect_uri\":\"https://example.com/logbook\"}\n",
    "\n",
    "headers = {\"Content-Type\": \"application/x-www-form-urlencoded\"}\n",
    "\n",
    "token = requests.post(f\"{url}/oauth/access_token\", data=body, headers=headers)\n",
    "print(token.content)"
   ]
  },
  {
   "cell_type": "markdown",
   "metadata": {},
   "source": []
  },
  {
   "cell_type": "code",
   "execution_count": 72,
   "metadata": {},
   "outputs": [
    {
     "name": "stdout",
     "output_type": "stream",
     "text": [
      "b'{\"message\":\"Missing OAuth access token\",\"status_code\":400}'\n"
     ]
    }
   ],
   "source": [
    "\n",
    "response = requests.get(f\"{url}/api/users/514\")\n",
    "print(response.content)"
   ]
  },
  {
   "cell_type": "code",
   "execution_count": null,
   "metadata": {},
   "outputs": [],
   "source": []
  }
 ],
 "metadata": {
  "interpreter": {
   "hash": "83718f0dd1dba5149aeb07ddc1f7de521b8bf30fd50bef32fed0f5e61d8dd57b"
  },
  "kernelspec": {
   "display_name": "Python 3.9.7 64-bit ('base': conda)",
   "language": "python",
   "name": "python3"
  },
  "language_info": {
   "codemirror_mode": {
    "name": "ipython",
    "version": 3
   },
   "file_extension": ".py",
   "mimetype": "text/x-python",
   "name": "python",
   "nbconvert_exporter": "python",
   "pygments_lexer": "ipython3",
   "version": "3.9.7"
  },
  "orig_nbformat": 4
 },
 "nbformat": 4,
 "nbformat_minor": 2
}
