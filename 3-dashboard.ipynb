{
 "cells": [
  {
   "cell_type": "code",
   "execution_count": 36,
   "metadata": {},
   "outputs": [],
   "source": [
    "import pandas as pd\n",
    "import numpy as np\n",
    "import json"
   ]
  },
  {
   "cell_type": "code",
   "execution_count": 37,
   "metadata": {},
   "outputs": [],
   "source": [
    "df = pd.read_pickle(\"./data/interim/c2.pkl\")"
   ]
  },
  {
   "cell_type": "code",
   "execution_count": 38,
   "metadata": {},
   "outputs": [],
   "source": [
    "kpi = [\"Rowing Sessions\",\"Meters Rowed\",\"Average Power\", \"Calories Spent\"]\n",
    "sess_count = np.count_nonzero(df[\"training_day\"]==True)\n",
    "meters_sum = round(np.sum(df[\"work_in_m\"])/1000)\n",
    "power_avg = round(np.average(df[\"power_in_avg_w\"], weights=df[\"training_day\"]))\n",
    "cal_sum = round(np.sum(df[\"cal_burned\"])/1000)\n",
    "\n",
    "kpi_val = [sess_count,meters_sum,power_avg,cal_sum]\n",
    "kpis = dict(zip(kpi,kpi_val))\n",
    "\n",
    "json_kpis = json.dumps(kpis, indent = 4)\n",
    "with open(\"data/interim/kpis.json\", \"w\") as f:\n",
    "    f.write(json_kpis)"
   ]
  },
  {
   "cell_type": "code",
   "execution_count": 39,
   "metadata": {},
   "outputs": [],
   "source": [
    "sessions_trend = df[df[\"training_day\"]==True].groupby([\"mc_yearMonth\"])[\"training_day\"].count().to_dict()\n",
    "meters_trend = df[df[\"training_day\"]==True].groupby([\"mc_yearMonth\"])[\"work_in_m\"].sum().to_dict()\n",
    "power_trend = df[df[\"training_day\"]==True].groupby([\"mc_yearMonth\"])[\"power_in_avg_w\"].mean().to_dict()\n",
    "calories_trend = df[df[\"training_day\"]==True].groupby([\"mc_yearMonth\"])[\"cal_burned\"].sum().to_dict()\n",
    "\n",
    "kpi_graph = [\"Sessions Count\",\"Cumulative Meters\",\"Power Trend\", \"Cumulative Calories\"]\n",
    "kpi_graph_val = [sessions_trend,meters_trend,power_trend,calories_trend]\n",
    "kpis_graph = dict(zip(kpi_graph,kpi_graph_val))\n",
    "\n",
    "json_kpis_graph = json.dumps(kpis_graph, indent= 4)\n",
    "with open(\"data/interim/kpis_graph.json\",\"w\") as f:\n",
    "    f.write(json_kpis_graph)"
   ]
  },
  {
   "cell_type": "code",
   "execution_count": 40,
   "metadata": {},
   "outputs": [],
   "source": [
    "kpis_nested = {}\n",
    "kpis_nested['Sessions'] = {}\n",
    "kpis_nested['Sessions']['Graph'] = sessions_trend\n",
    "kpis_nested['Sessions']['Kpi'] = {}\n",
    "kpis_nested['Sessions']['Kpi']['Name'] = \"Rowing Sessions\"\n",
    "kpis_nested['Sessions']['Kpi']['Value'] = sess_count\n",
    "kpis_nested['Sessions']['Kpi']['Description'] = \"in total\"\n",
    "\n",
    "kpis_nested['Meters'] = {}\n",
    "kpis_nested['Meters']['Graph'] = meters_trend\n",
    "kpis_nested['Meters']['Kpi'] = {}\n",
    "kpis_nested['Meters']['Kpi']['Name'] = \"Meters Rowed\"\n",
    "kpis_nested['Meters']['Kpi']['Value'] = str(meters_sum)\n",
    "kpis_nested['Meters']['Kpi']['Description'] = \"in kilometers\"\n",
    "\n",
    "kpis_nested['Power'] = {}\n",
    "kpis_nested['Power']['Graph'] = power_trend\n",
    "kpis_nested['Power']['Kpi'] = {}\n",
    "kpis_nested['Power']['Kpi']['Name'] = \"Average Power\"\n",
    "kpis_nested['Power']['Kpi']['Value'] = str(power_avg)\n",
    "kpis_nested['Power']['Kpi']['Description'] = \"in watts\"\n",
    "\n",
    "kpis_nested['Calories'] = {}\n",
    "kpis_nested['Calories']['Graph'] = calories_trend\n",
    "kpis_nested['Calories']['Kpi'] = {}\n",
    "kpis_nested['Calories']['Kpi']['Name'] = \"Calories Spent\"\n",
    "kpis_nested['Calories']['Kpi']['Value'] = str(cal_sum)\n",
    "kpis_nested['Calories']['Kpi']['Description'] = \"in kilocalories\"\n",
    "\n",
    "json_kpis_nested = json.dumps(kpis_nested, indent= 4)\n",
    "with open(\"data/interim/kpis_nested.json\",\"w\") as f:\n",
    "    f.write(json_kpis_nested)"
   ]
  }
 ],
 "metadata": {
  "interpreter": {
   "hash": "efba83b83e0fde14fb16f5b6cf9b24eb536aa676146796346f9523522875d68c"
  },
  "kernelspec": {
   "display_name": "Python 3.9.7 ('base')",
   "language": "python",
   "name": "python3"
  },
  "language_info": {
   "codemirror_mode": {
    "name": "ipython",
    "version": 3
   },
   "file_extension": ".py",
   "mimetype": "text/x-python",
   "name": "python",
   "nbconvert_exporter": "python",
   "pygments_lexer": "ipython3",
   "version": "3.9.7"
  },
  "orig_nbformat": 4
 },
 "nbformat": 4,
 "nbformat_minor": 2
}
