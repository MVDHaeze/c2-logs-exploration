{
 "cells": [
  {
   "cell_type": "code",
   "execution_count": 2,
   "metadata": {},
   "outputs": [],
   "source": [
    "import pandas as pd\n",
    "import numpy as np\n",
    "import json"
   ]
  },
  {
   "cell_type": "code",
   "execution_count": 3,
   "metadata": {},
   "outputs": [],
   "source": [
    "df = pd.read_pickle(\"./data/interim/c2.pkl\")"
   ]
  },
  {
   "cell_type": "code",
   "execution_count": 4,
   "metadata": {},
   "outputs": [],
   "source": [
    "kpi = [\"Rowing Sessions\",\"Meters Rowed\",\"Average Power\", \"Calories Spent\"]\n",
    "sess_count = np.count_nonzero(df[\"training_day\"]==True)\n",
    "meters_sum = round(np.sum(df[\"work_in_m\"]))\n",
    "power_avg = round(np.average(df[\"power_in_avg_w\"], weights=df[\"training_day\"]),1)\n",
    "cal_sum = round(np.sum(df[\"cal_burned\"]))\n",
    "\n",
    "kpi_val = [sess_count,meters_sum,power_avg,cal_sum]\n",
    "kpis = dict(zip(kpi,kpi_val))\n",
    "\n",
    "json_kpis = json.dumps(kpis, indent = 4)\n",
    "with open(\"data/interim/kpis.json\", \"w\") as f:\n",
    "    f.write(json_kpis)"
   ]
  },
  {
   "cell_type": "code",
   "execution_count": 22,
   "metadata": {},
   "outputs": [
    {
     "name": "stdout",
     "output_type": "stream",
     "text": [
      "     work_in_m    mc_date\n",
      "0        500.0 2019-05-04\n",
      "1       1534.0 2019-05-05\n",
      "2       1534.0 2019-05-06\n",
      "3       4262.0 2019-05-07\n",
      "4       4262.0 2019-05-08\n",
      "..         ...        ...\n",
      "238   440304.0 2019-12-06\n",
      "239   445304.0 2019-12-07\n",
      "240   445304.0 2019-12-08\n",
      "241   450304.0 2019-12-09\n",
      "242   453504.0 2019-12-10\n",
      "\n",
      "[243 rows x 2 columns]\n"
     ]
    }
   ],
   "source": [
    "sess_cumsum = np.cumsum(df.training_day[df[\"training_day\"]==True])\n",
    "sess_cumsum = pd.concat([sess_cumsum,df.mc_date[df[\"training_day\"]==True]],axis=1)\n",
    "\n",
    "meters_cumsum = np.cumsum(df[\"work_in_m\"])\n",
    "meters_cumsum = pd.concat([meters_cumsum,df.mc_date],axis=1)\n",
    "\n",
    "power_sma15 = \n",
    "\n",
    "print(meters_cumsum)\n"
   ]
  }
 ],
 "metadata": {
  "interpreter": {
   "hash": "efba83b83e0fde14fb16f5b6cf9b24eb536aa676146796346f9523522875d68c"
  },
  "kernelspec": {
   "display_name": "Python 3.9.7 ('base')",
   "language": "python",
   "name": "python3"
  },
  "language_info": {
   "codemirror_mode": {
    "name": "ipython",
    "version": 3
   },
   "file_extension": ".py",
   "mimetype": "text/x-python",
   "name": "python",
   "nbconvert_exporter": "python",
   "pygments_lexer": "ipython3",
   "version": "3.9.7"
  },
  "orig_nbformat": 4
 },
 "nbformat": 4,
 "nbformat_minor": 2
}
