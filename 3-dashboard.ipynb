{
 "cells": [
  {
   "cell_type": "code",
   "execution_count": 1,
   "metadata": {},
   "outputs": [],
   "source": [
    "import pandas as pd\n",
    "import numpy as np\n",
    "import json"
   ]
  },
  {
   "cell_type": "code",
   "execution_count": 2,
   "metadata": {},
   "outputs": [],
   "source": [
    "df = pd.read_pickle(\"./data/interim/c2.pkl\")"
   ]
  },
  {
   "cell_type": "code",
   "execution_count": 3,
   "metadata": {},
   "outputs": [],
   "source": [
    "kpi = [\"Rowing Sessions\",\"Meters Rowed\",\"Average Power\", \"Calories Spent\"]\n",
    "sess_count = np.count_nonzero(df[\"training_day\"]==True)\n",
    "meters_sum = round(np.sum(df[\"work_in_m\"]))\n",
    "power_avg = round(np.average(df[\"power_in_avg_w\"], weights=df[\"training_day\"]),1)\n",
    "cal_sum = round(np.sum(df[\"cal_burned\"]))\n",
    "\n",
    "kpi_val = [sess_count,meters_sum,power_avg,cal_sum]\n",
    "kpis = dict(zip(kpi,kpi_val))\n",
    "\n",
    "json_kpis = json.dumps(kpis, indent = 4)\n",
    "with open(\"data/interim/kpis.json\", \"w\") as f:\n",
    "    f.write(json_kpis)"
   ]
  },
  {
   "cell_type": "code",
   "execution_count": 6,
   "metadata": {},
   "outputs": [
    {
     "ename": "SyntaxError",
     "evalue": "invalid syntax (Temp/ipykernel_12568/1078202003.py, line 10)",
     "output_type": "error",
     "traceback": [
      "\u001b[1;36m  File \u001b[1;32m\"C:\\Users\\Maxime\\AppData\\Local\\Temp/ipykernel_12568/1078202003.py\"\u001b[1;36m, line \u001b[1;32m10\u001b[0m\n\u001b[1;33m    json_kpis_graph = json.dumps(kpis_graph, indent= 4)\u001b[0m\n\u001b[1;37m    ^\u001b[0m\n\u001b[1;31mSyntaxError\u001b[0m\u001b[1;31m:\u001b[0m invalid syntax\n"
     ]
    }
   ],
   "source": [
    "sessions_trend = df[df[\"training_day\"]==True].groupby([\"mc_yearMonth\"])[\"training_day\"].count().to_json()\n",
    "meters_trend = df[df[\"training_day\"]==True].groupby([\"mc_yearMonth\"])[\"work_in_m\"].sum().to_json()\n",
    "power_trend = df[df[\"training_day\"]==True].groupby([\"mc_yearMonth\"])[\"power_in_avg_w\"].mean().to_json()\n",
    "calories_trend = df[df[\"training_day\"]==True].groupby([\"mc_yearMonth\"])[\"cal_burned\"].sum().to_json()\n",
    "\n",
    "kpi_graph = [\"Sessions Count\",\"Cumulative Meters\",\"Power Trend\", \"Cumulative Calories\"]\n",
    "kpi_graph_val = [sessions_trend,meters_trend,power_trend,calories_trend]\n",
    "kpis_graph = dict(zip(kpi_graph,kpi_graph_val))\n",
    "\n",
    "json_kpis_graph = json.dumps(kpis_graph, indent= 4)\n",
    "with open(\"data/interim/kpis_graph.json\",\"w\") as f:\n",
    "    f.write(json_kpis_graph)"
   ]
  },
  {
   "cell_type": "code",
   "execution_count": 8,
   "metadata": {},
   "outputs": [
    {
     "data": {
      "text/plain": [
       "{'Sessions Count': mc_yearMonth\n",
       " 2019_05    27\n",
       " 2019_06    28\n",
       " 2019_07    13\n",
       " 2019_08    10\n",
       " 2019_09     8\n",
       " 2019_10     5\n",
       " 2019_11    11\n",
       " 2019_12     3\n",
       " Name: training_day, dtype: int64,\n",
       " 'Cumulative Meters': '{\"2019_05\":60274.0,\"2019_06\":121072.0,\"2019_07\":73146.0,\"2019_08\":40803.0,\"2019_09\":35300.0,\"2019_10\":26500.0,\"2019_11\":83209.0,\"2019_12\":13200.0}',\n",
       " 'Power Trend': '{\"2019_05\":166.3333333333,\"2019_06\":165.8214285714,\"2019_07\":144.3076923077,\"2019_08\":144.8,\"2019_09\":158.625,\"2019_10\":108.0,\"2019_11\":137.5454545455,\"2019_12\":154.0}',\n",
       " 'Cumulative Calories': '{\"2019_05\":3611.0,\"2019_06\":7362.0,\"2019_07\":4404.0,\"2019_08\":2515.0,\"2019_09\":2230.0,\"2019_10\":1601.0,\"2019_11\":4975.0,\"2019_12\":823.0}'}"
      ]
     },
     "execution_count": 8,
     "metadata": {},
     "output_type": "execute_result"
    }
   ],
   "source": [
    "kpis_graph"
   ]
  }
 ],
 "metadata": {
  "interpreter": {
   "hash": "efba83b83e0fde14fb16f5b6cf9b24eb536aa676146796346f9523522875d68c"
  },
  "kernelspec": {
   "display_name": "Python 3.9.7 ('base')",
   "language": "python",
   "name": "python3"
  },
  "language_info": {
   "codemirror_mode": {
    "name": "ipython",
    "version": 3
   },
   "file_extension": ".py",
   "mimetype": "text/x-python",
   "name": "python",
   "nbconvert_exporter": "python",
   "pygments_lexer": "ipython3",
   "version": "3.9.7"
  },
  "orig_nbformat": 4
 },
 "nbformat": 4,
 "nbformat_minor": 2
}
